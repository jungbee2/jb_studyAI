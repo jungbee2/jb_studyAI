{
 "cells": [
  {
   "cell_type": "markdown",
   "id": "65579f53-bcba-40d9-a158-7bc2aa94523c",
   "metadata": {},
   "source": [
    "<h4>오차역전파법을 사용한 학습 구현하기</h4>"
   ]
  },
  {
   "cell_type": "code",
   "execution_count": 1,
   "id": "529e9f8b-9868-4ad5-b8e6-3d68edcb469b",
   "metadata": {},
   "outputs": [],
   "source": [
    "import sys, os\n",
    "sys.path.append(os.pardir)"
   ]
  },
  {
   "cell_type": "code",
   "execution_count": 2,
   "id": "16fa0ef7-069b-4a3e-b4a4-1933d2a73f49",
   "metadata": {},
   "outputs": [],
   "source": [
    "import numpy as np\n",
    "from dataset.mnist import load_mnist\n",
    "from two_layer_net import TwoLayerNet"
   ]
  },
  {
   "cell_type": "code",
   "execution_count": 3,
   "id": "bced04ae-6057-42bc-ace5-8009db71d5d8",
   "metadata": {},
   "outputs": [
    {
     "name": "stdout",
     "output_type": "stream",
     "text": [
      "0.135 0.136\n",
      "0.9068666666666667 0.911\n",
      "0.9246333333333333 0.9265\n",
      "0.9363833333333333 0.9363\n",
      "0.9436 0.9411\n",
      "0.9509 0.9474\n",
      "0.9560166666666666 0.9522\n",
      "0.9616833333333333 0.9572\n",
      "0.9636333333333333 0.9594\n",
      "0.96705 0.9604\n",
      "0.9696 0.9633\n",
      "0.9701666666666666 0.9633\n",
      "0.9724 0.9651\n",
      "0.9748333333333333 0.9679\n",
      "0.9754833333333334 0.9696\n",
      "0.9781333333333333 0.9701\n",
      "0.9783333333333334 0.9709\n"
     ]
    }
   ],
   "source": [
    "#데이터 읽기\n",
    "(x_train, t_train), (x_test, t_test) = \\\n",
    "            load_mnist(normalize=True, one_hot_label=True)\n",
    "\n",
    "network = TwoLayerNet(input_size=784, hidden_size=50, output_size=10)\n",
    "\n",
    "iters_num = 10000\n",
    "train_size = x_train.shape[0]\n",
    "batch_size =100\n",
    "learning_rate =0.1\n",
    "\n",
    "train_loss_list = []\n",
    "train_acc_list = []\n",
    "test_acc_list = []\n",
    "\n",
    "iter_per_epoch = max(train_size / batch_size, 1)\n",
    "\n",
    "for i in range(iters_num):\n",
    "    batch_mask = np.random.choice(train_size, batch_size)\n",
    "    x_batch = x_train[batch_mask]\n",
    "    t_batch = t_train[batch_mask]\n",
    "\n",
    "    #오차역전파법 방식\n",
    "    grad = network.gradient(x_batch, t_batch)\n",
    "\n",
    "    #갱신\n",
    "    for key in ('W1','b1','W2','b2'):\n",
    "        network.params[key] -=learning_rate * grad[key]\n",
    "\n",
    "    loss = network.loss(x_batch, t_batch)\n",
    "    train_loss_list.append(loss)\n",
    "\n",
    "    if i % iter_per_epoch == 0 :\n",
    "        train_acc = network.accuracy(x_train, t_train)\n",
    "        test_acc = network.accuracy(x_test, t_test)\n",
    "        train_acc_list.append(train_acc)\n",
    "        test_acc_list.append(test_acc)\n",
    "        print(train_acc, test_acc)"
   ]
  },
  {
   "cell_type": "code",
   "execution_count": null,
   "id": "5060d9dd-e3cc-4e7a-8dd5-716108b14b2c",
   "metadata": {},
   "outputs": [],
   "source": []
  },
  {
   "cell_type": "code",
   "execution_count": null,
   "id": "18506a03-b6c9-4e55-938d-eb85f3951de3",
   "metadata": {},
   "outputs": [],
   "source": []
  }
 ],
 "metadata": {
  "kernelspec": {
   "display_name": "Python 3 (ipykernel)",
   "language": "python",
   "name": "python3"
  },
  "language_info": {
   "codemirror_mode": {
    "name": "ipython",
    "version": 3
   },
   "file_extension": ".py",
   "mimetype": "text/x-python",
   "name": "python",
   "nbconvert_exporter": "python",
   "pygments_lexer": "ipython3",
   "version": "3.11.7"
  }
 },
 "nbformat": 4,
 "nbformat_minor": 5
}
