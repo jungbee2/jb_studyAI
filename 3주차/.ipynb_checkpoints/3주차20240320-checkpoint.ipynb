{
 "cells": [
  {
   "cell_type": "code",
   "execution_count": 1,
   "metadata": {},
   "outputs": [],
   "source": [
    "def AND_theta(x1,x2):\n",
    "    w1,w2, theta =0.5, 0.5, 0.7\n",
    "    tmp = x1*w1 +x2*w2\n",
    "    if tmp <= theta:\n",
    "        return 0\n",
    "    elif tmp > theta:\n",
    "        return 1"
   ]
  },
  {
   "cell_type": "code",
   "execution_count": 2,
   "metadata": {},
   "outputs": [],
   "source": [
    "def AND_wdNp(x1,x2):\n",
    "    w1,w2,b =0.5, 0.5,-0.7\n",
    "    tmp = x1*w1 +x2*w2+b\n",
    "    if tmp <= 0:\n",
    "        return 0\n",
    "    elif tmp > 0:\n",
    "        return 1"
   ]
  },
  {
   "cell_type": "code",
   "execution_count": 12,
   "metadata": {},
   "outputs": [],
   "source": [
    "import numpy as np\n",
    "\n",
    "def AND(x1,x2):\n",
    "    x= np.array([x1,x2])\n",
    "    w= np.array([0.4,0.4])\n",
    "    b=-0.7\n",
    "    tmp= np.sum(w*x)+b\n",
    "    if tmp <=0:\n",
    "        return 0\n",
    "    else:\n",
    "        return 1"
   ]
  },
  {
   "cell_type": "code",
   "execution_count": 13,
   "metadata": {},
   "outputs": [],
   "source": [
    "def NAND(x1,x2):\n",
    "    x= np.array([x1,x2])\n",
    "    w= np.array([-0.4,-0.4])\n",
    "    b=0.6\n",
    "    tmp= np.sum(w*x)+b\n",
    "    if tmp <=0:\n",
    "        return 0\n",
    "    else:\n",
    "        return 1"
   ]
  },
  {
   "cell_type": "code",
   "execution_count": 14,
   "metadata": {},
   "outputs": [],
   "source": [
    "def OR(x1,x2):\n",
    "    x= np.array([x1,x2])\n",
    "    w= np.array([0.8,0.8])\n",
    "    b=-0.6\n",
    "    tmp= np.sum(w*x)+b\n",
    "    if tmp <=0:\n",
    "        return 0\n",
    "    else:\n",
    "        return 1\n",
    "    "
   ]
  },
  {
   "cell_type": "code",
   "execution_count": 15,
   "metadata": {},
   "outputs": [],
   "source": [
    "def XOR(x1,x2):\n",
    "    s1=NAND(x1,x2)\n",
    "    s2=OR(x1,x2)\n",
    "    y= AND(s1,s2)\n",
    "    return y"
   ]
  },
  {
   "cell_type": "code",
   "execution_count": 16,
   "metadata": {},
   "outputs": [
    {
     "name": "stdout",
     "output_type": "stream",
     "text": [
      "(0,0)= 1\n",
      "(1,0)= 1\n",
      "(0,1)= 1\n",
      "(1,1)= 1\n",
      "-------------------\n",
      "(0,0)= 1\n",
      "(1,0)= 1\n",
      "(0,1)= 1\n",
      "(1,1)= 0\n",
      "-------------------\n",
      "(0,0)= 0\n",
      "(1,0)= 1\n",
      "(0,1)= 1\n",
      "(1,1)= 1\n",
      "-------------------\n",
      "(0,0)= 1\n",
      "(1,0)= 1\n",
      "(0,1)= 1\n",
      "(1,1)= 1\n"
     ]
    }
   ],
   "source": [
    "\n",
    "print('(0,0)=',AND(0,0))\n",
    "print('(1,0)=',AND(1,0))\n",
    "print('(0,1)=',AND(0,1))\n",
    "print('(1,1)=',AND(1,1))\n",
    "\n",
    "print('-------------------')\n",
    "\n",
    "\n",
    "print('(0,0)=',NAND(0,0))\n",
    "print('(1,0)=',NAND(1,0))\n",
    "print('(0,1)=',NAND(0,1))\n",
    "print('(1,1)=',NAND(1,1))\n",
    "\n",
    "print('-------------------')\n",
    "\n",
    "\n",
    "print('(0,0)=',OR(0,0))\n",
    "print('(1,0)=',OR(1,0))\n",
    "print('(0,1)=',OR(0,1))\n",
    "print('(1,1)=',OR(1,1))\n",
    "\n",
    "print('-------------------')\n",
    "\n",
    "print('(0,0)=',XOR(0,0))\n",
    "print('(1,0)=',XOR(1,0))\n",
    "print('(0,1)=',XOR(0,1))\n",
    "print('(1,1)=',XOR(1,1))\n"
   ]
  },
  {
   "cell_type": "code",
   "execution_count": null,
   "metadata": {},
   "outputs": [],
   "source": []
  },
  {
   "cell_type": "code",
   "execution_count": null,
   "metadata": {},
   "outputs": [],
   "source": []
  },
  {
   "cell_type": "code",
   "execution_count": null,
   "metadata": {},
   "outputs": [],
   "source": []
  },
  {
   "cell_type": "code",
   "execution_count": null,
   "metadata": {},
   "outputs": [],
   "source": []
  }
 ],
 "metadata": {
  "kernelspec": {
   "display_name": "Python 3 (ipykernel)",
   "language": "python",
   "name": "python3"
  },
  "language_info": {
   "codemirror_mode": {
    "name": "ipython",
    "version": 3
   },
   "file_extension": ".py",
   "mimetype": "text/x-python",
   "name": "python",
   "nbconvert_exporter": "python",
   "pygments_lexer": "ipython3",
   "version": "3.11.7"
  }
 },
 "nbformat": 4,
 "nbformat_minor": 4
}
