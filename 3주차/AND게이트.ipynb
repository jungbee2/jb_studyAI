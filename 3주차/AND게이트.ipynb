{
 "cells": [
  {
   "cell_type": "code",
   "execution_count": 2,
   "id": "c12ab39c-0cb9-4c43-9568-4dbb3e4bbc4e",
   "metadata": {},
   "outputs": [],
   "source": [
    "def AND(x1,x2):\n",
    "    w1,w2, theta =0.3, 0.3, 0.5\n",
    "    tmp = x1*w1 +x2*w2\n",
    "    if tmp <= theta:\n",
    "        return 0\n",
    "    elif tmp > theta:\n",
    "        return 1"
   ]
  },
  {
   "cell_type": "code",
   "execution_count": 3,
   "id": "4fd67fc6-c6e3-4e60-aee2-193ee9dbd068",
   "metadata": {},
   "outputs": [
    {
     "name": "stdout",
     "output_type": "stream",
     "text": [
      "(0,0)= 0\n",
      "(1,0)= 0\n",
      "(0,1)= 0\n",
      "(1,1)= 1\n"
     ]
    }
   ],
   "source": [
    "print('(0,0)=',AND(0,0))\n",
    "print('(1,0)=',AND(1,0))\n",
    "print('(0,1)=',AND(0,1))\n",
    "print('(1,1)=',AND(1,1))"
   ]
  },
  {
   "cell_type": "code",
   "execution_count": null,
   "id": "ebf00c7a-f350-4140-9c78-110b452ca6be",
   "metadata": {},
   "outputs": [],
   "source": []
  },
  {
   "cell_type": "code",
   "execution_count": null,
   "id": "95b5d167-0acf-432a-b727-d238f218fd1e",
   "metadata": {},
   "outputs": [],
   "source": []
  },
  {
   "cell_type": "code",
   "execution_count": null,
   "id": "f0bdc213-5163-4b92-ae44-59119d437fd7",
   "metadata": {},
   "outputs": [],
   "source": []
  },
  {
   "cell_type": "code",
   "execution_count": null,
   "id": "a5b46285-f297-4320-9b32-e71e3089b285",
   "metadata": {},
   "outputs": [],
   "source": []
  }
 ],
 "metadata": {
  "kernelspec": {
   "display_name": "Python 3 (ipykernel)",
   "language": "python",
   "name": "python3"
  },
  "language_info": {
   "codemirror_mode": {
    "name": "ipython",
    "version": 3
   },
   "file_extension": ".py",
   "mimetype": "text/x-python",
   "name": "python",
   "nbconvert_exporter": "python",
   "pygments_lexer": "ipython3",
   "version": "3.11.7"
  }
 },
 "nbformat": 4,
 "nbformat_minor": 5
}
