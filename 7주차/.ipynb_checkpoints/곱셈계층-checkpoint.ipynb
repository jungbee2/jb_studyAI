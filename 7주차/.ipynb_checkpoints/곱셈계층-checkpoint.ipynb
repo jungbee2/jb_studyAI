{
 "cells": [
  {
   "cell_type": "code",
   "execution_count": 5,
   "id": "6da19461-d1e1-476a-a255-dc215f6e72e6",
   "metadata": {},
   "outputs": [],
   "source": [
    "class MulLayer:\n",
    "    def __init__(self):\n",
    "        self.x = None\n",
    "        self.y = None\n",
    "        \n",
    "    def forward(self, x,y):\n",
    "        self.x=x\n",
    "        self.y=y\n",
    "        out= x*y\n",
    "\n",
    "        return out\n",
    "\n",
    "    def backward(self,dout):\n",
    "        dx=dout*self.y\n",
    "        dy=dout*self.x\n",
    "        \n",
    "        return dx,dy"
   ]
  },
  {
   "cell_type": "code",
   "execution_count": 6,
   "id": "13221ad1-c9c1-4b7c-8bbc-bef37f9a8479",
   "metadata": {},
   "outputs": [
    {
     "name": "stdout",
     "output_type": "stream",
     "text": [
      "220.00000000000003\n"
     ]
    }
   ],
   "source": [
    "apple =100\n",
    "apple_num =2\n",
    "tax=1.1\n",
    "\n",
    "#계층들\n",
    "mul_apple_layer=MulLayer()\n",
    "mul_tax_layer=MulLayer()\n",
    "\n",
    "#순전파\n",
    "apple_price = mul_apple_layer.forward(apple, apple_num)\n",
    "price = mul_tax_layer.forward(apple_price, tax)\n",
    "\n",
    "print(price)"
   ]
  },
  {
   "cell_type": "code",
   "execution_count": 7,
   "id": "9f4bf736-2108-4fdd-ba62-b25d1f8b100c",
   "metadata": {},
   "outputs": [
    {
     "ename": "TypeError",
     "evalue": "MulLayer.forward() missing 1 required positional argument: 'y'",
     "output_type": "error",
     "traceback": [
      "\u001b[1;31m---------------------------------------------------------------------------\u001b[0m",
      "\u001b[1;31mTypeError\u001b[0m                                 Traceback (most recent call last)",
      "Cell \u001b[1;32mIn[7], line 2\u001b[0m\n\u001b[0;32m      1\u001b[0m dprice\u001b[38;5;241m=\u001b[39m\u001b[38;5;241m1\u001b[39m\n\u001b[1;32m----> 2\u001b[0m dapple_price, dtax \u001b[38;5;241m=\u001b[39m mul_tax_layer\u001b[38;5;241m.\u001b[39mforward(dprice)\n\u001b[0;32m      3\u001b[0m dapple, dapple_num \u001b[38;5;241m=\u001b[39m mul_apple_layer\u001b[38;5;241m.\u001b[39mbackward(dapple_price)\n\u001b[0;32m      5\u001b[0m \u001b[38;5;28mprint\u001b[39m(dapple, dapple_num, dtax)\n",
      "\u001b[1;31mTypeError\u001b[0m: MulLayer.forward() missing 1 required positional argument: 'y'"
     ]
    }
   ],
   "source": [
    "dprice=1\n",
    "dapple_price, dtax = mul_tax_layer.backward(dprice)\n",
    "dapple, dapple_num = mul_apple_layer.backward(dapple_price)\n",
    "\n",
    "print(dapple, dapple_num, dtax)"
   ]
  },
  {
   "cell_type": "code",
   "execution_count": null,
   "id": "abef0fe3-90d9-43f8-aeb1-ec3e60dcca2b",
   "metadata": {},
   "outputs": [],
   "source": []
  }
 ],
 "metadata": {
  "kernelspec": {
   "display_name": "Python 3 (ipykernel)",
   "language": "python",
   "name": "python3"
  },
  "language_info": {
   "codemirror_mode": {
    "name": "ipython",
    "version": 3
   },
   "file_extension": ".py",
   "mimetype": "text/x-python",
   "name": "python",
   "nbconvert_exporter": "python",
   "pygments_lexer": "ipython3",
   "version": "3.11.7"
  }
 },
 "nbformat": 4,
 "nbformat_minor": 5
}
