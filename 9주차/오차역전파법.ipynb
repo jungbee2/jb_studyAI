{
 "cells": [
  {
   "cell_type": "markdown",
   "id": "09b61765-fd90-4917-a7c7-dd8ec9a56481",
   "metadata": {},
   "source": [
    "<h4>Affine 계층</h4>"
   ]
  },
  {
   "cell_type": "code",
   "execution_count": 2,
   "id": "a576a234-8ba5-49ce-ae65-f18f4284305f",
   "metadata": {},
   "outputs": [],
   "source": [
    "import numpy as np"
   ]
  },
  {
   "cell_type": "code",
   "execution_count": 3,
   "id": "390de51f-e272-4e4b-a30f-d0dc036265a0",
   "metadata": {},
   "outputs": [],
   "source": [
    "X= np.random.rand(2) #입력\n",
    "W= np.random.rand(2,3) #가중치\n",
    "B= np.random.rand(3) #편향"
   ]
  },
  {
   "cell_type": "code",
   "execution_count": 4,
   "id": "a963f3a3-416a-47a3-a5a0-3c05905aac31",
   "metadata": {},
   "outputs": [
    {
     "data": {
      "text/plain": [
       "(2,)"
      ]
     },
     "execution_count": 4,
     "metadata": {},
     "output_type": "execute_result"
    }
   ],
   "source": [
    "X.shape"
   ]
  },
  {
   "cell_type": "code",
   "execution_count": 5,
   "id": "3bf65dcd-6f6f-40b9-a605-4e7a81adc90c",
   "metadata": {},
   "outputs": [
    {
     "data": {
      "text/plain": [
       "(2, 3)"
      ]
     },
     "execution_count": 5,
     "metadata": {},
     "output_type": "execute_result"
    }
   ],
   "source": [
    "W.shape"
   ]
  },
  {
   "cell_type": "code",
   "execution_count": 6,
   "id": "95eecf16-7f16-419f-a342-bda6ea712f08",
   "metadata": {},
   "outputs": [
    {
     "data": {
      "text/plain": [
       "(3,)"
      ]
     },
     "execution_count": 6,
     "metadata": {},
     "output_type": "execute_result"
    }
   ],
   "source": [
    "B.shape"
   ]
  },
  {
   "cell_type": "code",
   "execution_count": 7,
   "id": "6aceafed-1793-4689-9601-915005d8e244",
   "metadata": {},
   "outputs": [],
   "source": [
    "Y=np.dot(X,W)+B "
   ]
  },
  {
   "cell_type": "code",
   "execution_count": 8,
   "id": "d0c667a9-69eb-4c03-ba57-5a2c526757cf",
   "metadata": {},
   "outputs": [
    {
     "data": {
      "text/plain": [
       "(3,)"
      ]
     },
     "execution_count": 8,
     "metadata": {},
     "output_type": "execute_result"
    }
   ],
   "source": [
    "Y.shape"
   ]
  },
  {
   "cell_type": "markdown",
   "id": "ca68a4e5-18b0-4ca1-998a-611c81fd5ab7",
   "metadata": {},
   "source": [
    "X,W,B는 각각 형상이 (2, ),(2, 3),(3, ) 인 다차원 배열입니다.\n",
    "뉴런의 가중치 합은 Y=np.dot(X,W)+B처럼 계산\n",
    "Y를 활성화 함수로 변환해 다음 층으로 전파하는 것이 신경망 순전파의 흐름이다.\n",
    "\n",
    "행렬의 곱에서는 대응하는 차원의 원소 수를 일치시킵니다.\n",
    "\n",
    "신경망의 순잔파 때 수행하는 행렬의 곱은 기하학에서는 어파인 변환 이라고 합니다.\n",
    "어파인 변환을 수행하는 처리를 <b><mark>Affine 계층 </mark></b>이라는 이름으로 구협합니다."
   ]
  },
  {
   "cell_type": "markdown",
   "id": "536174cb-fb93-4e5a-98b1-994cb1fee35b",
   "metadata": {},
   "source": [
    "<h4>배치용 Affine 계층</h4>"
   ]
  },
  {
   "cell_type": "code",
   "execution_count": 9,
   "id": "bd347ba8-08df-47af-bea4-b31741c67203",
   "metadata": {},
   "outputs": [],
   "source": [
    "X_dot_W = np.array([[0,0,0],[10,10,10]])\n",
    "B= np.array([1,2,3])"
   ]
  },
  {
   "cell_type": "code",
   "execution_count": 10,
   "id": "f4359416-0453-41d9-ba2f-c3cb530c9e16",
   "metadata": {},
   "outputs": [
    {
     "data": {
      "text/plain": [
       "array([[ 0,  0,  0],\n",
       "       [10, 10, 10]])"
      ]
     },
     "execution_count": 10,
     "metadata": {},
     "output_type": "execute_result"
    }
   ],
   "source": [
    "X_dot_W"
   ]
  },
  {
   "cell_type": "code",
   "execution_count": 11,
   "id": "46aaf047-1603-4fec-9e56-25d148a48949",
   "metadata": {},
   "outputs": [
    {
     "data": {
      "text/plain": [
       "array([[ 1,  2,  3],\n",
       "       [11, 12, 13]])"
      ]
     },
     "execution_count": 11,
     "metadata": {},
     "output_type": "execute_result"
    }
   ],
   "source": [
    "X_dot_W+B"
   ]
  },
  {
   "cell_type": "code",
   "execution_count": 12,
   "id": "ca61a344-c2c6-4378-94fc-d0b81a659ac5",
   "metadata": {},
   "outputs": [],
   "source": [
    "dY= np.array([[1,2,3],[4,5,6]])"
   ]
  },
  {
   "cell_type": "code",
   "execution_count": 13,
   "id": "cfda8115-4795-41d3-bb28-39cfb33e88ff",
   "metadata": {},
   "outputs": [
    {
     "data": {
      "text/plain": [
       "array([[1, 2, 3],\n",
       "       [4, 5, 6]])"
      ]
     },
     "execution_count": 13,
     "metadata": {},
     "output_type": "execute_result"
    }
   ],
   "source": [
    "dY"
   ]
  },
  {
   "cell_type": "code",
   "execution_count": 14,
   "id": "0baa49ce-9df6-49b3-b1b5-56033a4f5d49",
   "metadata": {},
   "outputs": [],
   "source": [
    "dB = np.sum(dY,axis=0)"
   ]
  },
  {
   "cell_type": "code",
   "execution_count": 15,
   "id": "2fb7e60f-b5dd-4839-9fd7-16d9271ff94a",
   "metadata": {},
   "outputs": [
    {
     "data": {
      "text/plain": [
       "array([5, 7, 9])"
      ]
     },
     "execution_count": 15,
     "metadata": {},
     "output_type": "execute_result"
    }
   ],
   "source": [
    "dB"
   ]
  },
  {
   "cell_type": "markdown",
   "id": "97b5e3b9-6ab3-4a9e-a3c5-101a01bf4f38",
   "metadata": {},
   "source": [
    "<h4>배치용 Affine 계층에서 편향의 순전파 역전파</h4>"
   ]
  },
  {
   "cell_type": "code",
   "execution_count": 16,
   "id": "8fbc23a8-a002-4613-9f9c-beb489217976",
   "metadata": {},
   "outputs": [],
   "source": [
    "class Affine:\n",
    "    def __init__(self,W,b):\n",
    "        self.W = W\n",
    "        self.b = b\n",
    "        self.x= None\n",
    "        self.dW = None\n",
    "        self.db = None\n",
    "\n",
    "    #순전파\n",
    "    def forward(self,x):\n",
    "        self.x = x\n",
    "        out= np.dot(x,self.W)+self.b\n",
    "\n",
    "        return out\n",
    "        \n",
    "    #역전파\n",
    "    def backward(self,dout):\n",
    "        dx= np.dot(dout, self.W.T)\n",
    "        self.dW = np.dot(self.x.T,dout)\n",
    "        self.db = np.sum(dout, axis=0)\n",
    "\n",
    "        return dx"
   ]
  },
  {
   "cell_type": "markdown",
   "id": "351f32ea-b511-44de-9a36-cdb080479248",
   "metadata": {},
   "source": [
    "<h4>Softmax-with-Loss 계층</h4>"
   ]
  },
  {
   "cell_type": "code",
   "execution_count": 17,
   "id": "e9a64667-a3a9-433f-94fe-b180b858c802",
   "metadata": {},
   "outputs": [],
   "source": [
    "class SoftmaxWithLoss:\n",
    "    def __init__(self):\n",
    "        self.loss =None # 손실\n",
    "        self.y = None #softmax의 출력\n",
    "        self.t = None #정답 레이블(원-핫 벡터)\n",
    "\n",
    "    def forward(self,x,t):\n",
    "        self.t =t\n",
    "        self.y=softmax(x)\n",
    "        self.loss = cross_entropy_error(self.y, self.t)\n",
    "        return self.loss\n",
    "\n",
    "    def backward(self, dout=1):\n",
    "        batch_size = self.t.shape[0]\n",
    "        dx = (self.y - self.t) / batch_size\n",
    "\n",
    "        return dx"
   ]
  }
 ],
 "metadata": {
  "kernelspec": {
   "display_name": "Python 3 (ipykernel)",
   "language": "python",
   "name": "python3"
  },
  "language_info": {
   "codemirror_mode": {
    "name": "ipython",
    "version": 3
   },
   "file_extension": ".py",
   "mimetype": "text/x-python",
   "name": "python",
   "nbconvert_exporter": "python",
   "pygments_lexer": "ipython3",
   "version": "3.11.7"
  }
 },
 "nbformat": 4,
 "nbformat_minor": 5
}
