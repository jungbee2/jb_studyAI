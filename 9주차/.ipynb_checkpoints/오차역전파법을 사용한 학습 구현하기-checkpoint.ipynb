{
 "cells": [
  {
   "cell_type": "markdown",
   "id": "65579f53-bcba-40d9-a158-7bc2aa94523c",
   "metadata": {},
   "source": [
    "<h4>오차역전파법을 사용한 학습 구현하기</h4>"
   ]
  },
  {
   "cell_type": "code",
   "execution_count": 3,
   "id": "529e9f8b-9868-4ad5-b8e6-3d68edcb469b",
   "metadata": {},
   "outputs": [],
   "source": [
    "import sys, os\n",
    "sys.path.append(os.pardir)"
   ]
  },
  {
   "cell_type": "code",
   "execution_count": 4,
   "id": "16fa0ef7-069b-4a3e-b4a4-1933d2a73f49",
   "metadata": {},
   "outputs": [],
   "source": [
    "import numpy as np\n",
    "from dataset.mnist import load_mnist\n",
    "from two_layer_net import TwoLayerNet"
   ]
  },
  {
   "cell_type": "code",
   "execution_count": 6,
   "id": "bced04ae-6057-42bc-ace5-8009db71d5d8",
   "metadata": {},
   "outputs": [
    {
     "name": "stdout",
     "output_type": "stream",
     "text": [
      "0.09873333333333334 0.098\n",
      "0.9054333333333333 0.9081\n",
      "0.9237 0.9261\n",
      "0.9368666666666666 0.9363\n",
      "0.9447333333333333 0.9449\n",
      "0.9517666666666666 0.9504\n",
      "0.9558666666666666 0.9531\n",
      "0.9611833333333333 0.9575\n",
      "0.9638333333333333 0.9608\n",
      "0.9652166666666666 0.9585\n",
      "0.9698166666666667 0.9636\n",
      "0.9721166666666666 0.9662\n",
      "0.973 0.9673\n",
      "0.9749833333333333 0.9684\n",
      "0.9765 0.9695\n",
      "0.9753 0.9684\n",
      "0.9766 0.9702\n"
     ]
    }
   ],
   "source": [
    "#데이터 읽기\n",
    "(x_train, t_train), (x_test, t_test) = \\\n",
    "            load_mnist(normalize=True, one_hot_label=True)\n",
    "\n",
    "network = TwoLayerNet(input_size=784, hidden_size=50, output_size=10)\n",
    "\n",
    "iters_num = 10000\n",
    "train_size = x_train.shape[0]\n",
    "batch_size =100\n",
    "learning_rate =0.1\n",
    "\n",
    "train_loss_list = []\n",
    "train_acc_list = []\n",
    "test_acc_list = []\n",
    "\n",
    "iter_per_epoch = max(train_size / batch_size, 1)\n",
    "\n",
    "for i in range(iters_num):\n",
    "    batch_mask = np.random.choice(train_size, batch_size)\n",
    "    x_batch = x_train[batch_mask]\n",
    "    t_batch = t_train[batch_mask]\n",
    "\n",
    "    #오차역전파법 방식\n",
    "    grad = network.gradient(x_batch, t_batch)\n",
    "\n",
    "    #갱신\n",
    "    for key in ('W1','b1','W2','b2'):\n",
    "        network.params[key] -=learning_rate * grad[key]\n",
    "\n",
    "    loss = network.loss(x_batch, t_batch)\n",
    "    train_loss_list.append(loss)\n",
    "\n",
    "    if i % iter_per_epoch == 0 :\n",
    "        train_acc = network.accuracy(x_train, t_train)\n",
    "        test_acc = network.accuracy(x_test, t_test)\n",
    "        train_acc_list.append(train_acc)\n",
    "        test_acc_list.append(test_acc)\n",
    "        print(train_acc, test_acc)"
   ]
  },
  {
   "cell_type": "code",
   "execution_count": null,
   "id": "5060d9dd-e3cc-4e7a-8dd5-716108b14b2c",
   "metadata": {},
   "outputs": [],
   "source": []
  },
  {
   "cell_type": "code",
   "execution_count": null,
   "id": "18506a03-b6c9-4e55-938d-eb85f3951de3",
   "metadata": {},
   "outputs": [],
   "source": []
  }
 ],
 "metadata": {
  "kernelspec": {
   "display_name": "Python 3 (ipykernel)",
   "language": "python",
   "name": "python3"
  },
  "language_info": {
   "codemirror_mode": {
    "name": "ipython",
    "version": 3
   },
   "file_extension": ".py",
   "mimetype": "text/x-python",
   "name": "python",
   "nbconvert_exporter": "python",
   "pygments_lexer": "ipython3",
   "version": "3.11.7"
  }
 },
 "nbformat": 4,
 "nbformat_minor": 5
}
