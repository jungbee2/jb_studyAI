{
 "cells": [
  {
   "cell_type": "code",
   "execution_count": 64,
   "id": "62ce6c92-9608-4887-a911-1f646b45921e",
   "metadata": {},
   "outputs": [],
   "source": [
    "import numpy as np"
   ]
  },
  {
   "cell_type": "code",
   "execution_count": 65,
   "id": "8dcbc4dc-cb93-49d2-a8f1-c624e44616d2",
   "metadata": {},
   "outputs": [],
   "source": [
    "def sigmoid(x):\n",
    "    return 1/(1+np.exp(-x))"
   ]
  },
  {
   "cell_type": "code",
   "execution_count": 66,
   "id": "d0345c34-0505-4137-a081-09d1e33a14d8",
   "metadata": {},
   "outputs": [],
   "source": [
    "def identify_function(x):\n",
    "    return x"
   ]
  },
  {
   "cell_type": "code",
   "execution_count": 67,
   "id": "c7d8e7f3-e833-43c8-aa8a-7f4fc7124d76",
   "metadata": {},
   "outputs": [],
   "source": [
    "# X=np.array([1.0, 0.5])\n",
    "# W1=np.array([[0.1,0.3,0.5],[0.2,0.4,0.6]])\n",
    "# B1= np.array([0.1,0.2,0.3])"
   ]
  },
  {
   "cell_type": "code",
   "execution_count": 68,
   "id": "78d75b64-bec6-4092-8d16-8a93ea5d3827",
   "metadata": {},
   "outputs": [],
   "source": [
    "# print(W1.shape)\n",
    "# print(X.shape)\n",
    "# print(B1.shape)"
   ]
  },
  {
   "cell_type": "markdown",
   "id": "c5138566-0b25-4e07-bc69-0ab3d4324181",
   "metadata": {},
   "source": [
    "은닉층에서 가중치 합( 가중신호와 편향의 총 합) A로 표기 , 활성화함수 h()시그모이드 함수로 변환된 신호를 z로 표기"
   ]
  },
  {
   "cell_type": "markdown",
   "id": "5790218a-16ba-457f-a695-d2dbddbfac15",
   "metadata": {},
   "source": [
    "0층(입력층) > 1층(은닉층)의 신호전달 에서는 활성화 함수로 시그모이드 함수를 사용합니다."
   ]
  },
  {
   "cell_type": "code",
   "execution_count": 69,
   "id": "7eaa689e-5aca-4d7e-88c0-88912a6104e2",
   "metadata": {},
   "outputs": [],
   "source": [
    "# A1= np.dot(X,W1)+B1"
   ]
  },
  {
   "cell_type": "code",
   "execution_count": 70,
   "id": "6c1c7eb1-5db4-4fd2-abc9-e020ac986479",
   "metadata": {},
   "outputs": [],
   "source": [
    "# Z1 = sigmoid(A1)"
   ]
  },
  {
   "cell_type": "code",
   "execution_count": 71,
   "id": "6c24b86f-2a5c-4052-9955-f48adad31230",
   "metadata": {},
   "outputs": [],
   "source": [
    "# print(A1)\n",
    "# print(Z1)"
   ]
  },
  {
   "cell_type": "markdown",
   "id": "c842227f-6ebc-4126-b084-710e7b6e2608",
   "metadata": {},
   "source": [
    "1층(은닉층) > 2층(은닉층)의 신호전달 에서는 활성화 함수로 시그모이드 함수를 사용합니다."
   ]
  },
  {
   "cell_type": "code",
   "execution_count": 72,
   "id": "9de4513e-e6b8-45c0-ab9a-4f310c22b2df",
   "metadata": {},
   "outputs": [],
   "source": [
    "# W2 = np.array([[0.1, 0.4],[0.2,0.5],[0.3,0.5]])\n",
    "# B2 = np.array([0.1,0.2])"
   ]
  },
  {
   "cell_type": "code",
   "execution_count": 73,
   "id": "35b0d58f-af24-4a37-b329-22767d2708ad",
   "metadata": {},
   "outputs": [],
   "source": [
    "# print(Z1.shape)\n",
    "# print(W2.shape)\n",
    "# print(B2.shape)"
   ]
  },
  {
   "cell_type": "code",
   "execution_count": 74,
   "id": "70c780bd-f027-4ef3-94bf-483d61ee1671",
   "metadata": {},
   "outputs": [],
   "source": [
    "# A2= np.dot(Z1,W2)+B2\n",
    "# Z2 = sigmoid(A2)"
   ]
  },
  {
   "cell_type": "code",
   "execution_count": 75,
   "id": "3f39bccc-8e48-4746-b3a5-232bb6e383ed",
   "metadata": {},
   "outputs": [],
   "source": [
    "# print(A2)\n",
    "# print(Z2)"
   ]
  },
  {
   "cell_type": "markdown",
   "id": "648ff417-3431-4e03-9c2f-f213f9dd501c",
   "metadata": {},
   "source": [
    "identify_function. 항등함수 : 입력을 그대로 출력하는 함수 "
   ]
  },
  {
   "cell_type": "markdown",
   "id": "308a32db-7a34-4101-9627-57b610e07c80",
   "metadata": {},
   "source": [
    "2층(은닉층) > 3층(출력층) 에서는 활성화 함수로 소프트맥스 함수를 사용합니다."
   ]
  },
  {
   "cell_type": "code",
   "execution_count": 76,
   "id": "1e8608e7-6568-40ad-b06f-845451a7272b",
   "metadata": {},
   "outputs": [],
   "source": [
    "# W3= np.array([[0.1,0.3],[0.2,0.4]])\n",
    "# B3= np.array([0.1,0.2])"
   ]
  },
  {
   "cell_type": "code",
   "execution_count": 77,
   "id": "f6d494aa-46eb-4d28-afde-69a853e69792",
   "metadata": {},
   "outputs": [],
   "source": [
    "# A3= np.dot(Z2,W3)+B3\n",
    "# Z3= identify_function(A3)"
   ]
  },
  {
   "cell_type": "code",
   "execution_count": 78,
   "id": "8728d028-9541-4e84-a9f9-be0a4677d68c",
   "metadata": {},
   "outputs": [],
   "source": [
    "# print(A3)\n",
    "# print(Z3)"
   ]
  },
  {
   "cell_type": "markdown",
   "id": "2fdde55c-96f7-424b-abdc-e6c9c2d421e4",
   "metadata": {},
   "source": [
    "구현 정리 (3층 신경망 구현하기)"
   ]
  },
  {
   "cell_type": "code",
   "execution_count": 79,
   "id": "5d02ba41-5e2f-42db-b012-35e65e9ec17c",
   "metadata": {},
   "outputs": [],
   "source": [
    "#가중치와 편향 초기화\n",
    "def init_network(): \n",
    "    network={} #딕셔너리 변수, 가중치와 편향(매게변수) 모두 저장함\n",
    "    network['W1'] = np.array([[0.1,0.3,0.5],[0.2,0.4,0.6]])\n",
    "    network['b1']= np.array([0.1,0.2,0.3])\n",
    "    network['W2'] = np.array([[0.1,0.4],[0.2,0.5],[0.3,0.6]])\n",
    "    network['b2']= np.array([0.1,0.2])\n",
    "    network['W3'] = np.array([[0.1,0.3],[0.2,0.4]])\n",
    "    network['b3']= np.array([0.1,0.2])\n",
    "\n",
    "    return network"
   ]
  },
  {
   "cell_type": "code",
   "execution_count": 80,
   "id": "89060b31-1b3d-41be-a106-a219d3010485",
   "metadata": {},
   "outputs": [],
   "source": [
    "# 입력신호를 출력신호로 변환하는 처리과정\n",
    "# forward : 순전향(신호가 입력에서 출력방향)으로 전달됨(순전파)\n",
    "# 추후에 역방향(backward, 출력에서 입력방향) 처리에 대해서도 살펴볼 예정\n",
    "def forward(network,x):\n",
    "    W1,W2,W3 =network['W1'],network['W2'],network['W3']\n",
    "    b1,b2,b3 =network['b1'],network['b2'],network['b3']\n",
    "\n",
    "    a1= np.dot(x,W1)+b1\n",
    "    z1= sigmoid(a1)\n",
    "    a2= np.dot(z1,W2)+b2\n",
    "    z2= sigmoid(a2)\n",
    "    a3= np.dot(z2,W3)+b3\n",
    "    y= identify_function(a3)\n",
    "    return y"
   ]
  },
  {
   "cell_type": "code",
   "execution_count": 82,
   "id": "fe2b84e6-f9fb-496c-a3af-9bcda1691943",
   "metadata": {},
   "outputs": [
    {
     "name": "stdout",
     "output_type": "stream",
     "text": [
      "[0.31682708 0.69627909]\n"
     ]
    }
   ],
   "source": [
    "network = init_network()\n",
    "x= np.array([1.0,0.5])\n",
    "y= forward(network,x)\n",
    "print(y)"
   ]
  },
  {
   "cell_type": "markdown",
   "id": "5dbb7340-b37c-40b4-b5b5-fbe65e78b0fb",
   "metadata": {},
   "source": [
    "신경망은 분류와 회귀에 모두 이용 가능, 다만 출력층에서 사용하는 활성화함수 회귀에서는 항등함수, 분류에서는 소프트맥수 함수 이용합니다."
   ]
  },
  {
   "cell_type": "markdown",
   "id": "7a940869-6749-4f9c-9236-36b8d90a270c",
   "metadata": {},
   "source": [
    "분류 : 데이터가 어디 클래스에 속하느냐는 문제 ex) 사진 속 인물의 성별 분류 <br> 회귀 : 입력데이터에 연속적인 수치를 예측하는 문제 ex) 사진 속 인물의 몸무게(57.4?)를 예측\n"
   ]
  },
  {
   "cell_type": "code",
   "execution_count": null,
   "id": "f0c9ec57-bf22-46a4-915f-3426332b0b80",
   "metadata": {},
   "outputs": [],
   "source": []
  }
 ],
 "metadata": {
  "kernelspec": {
   "display_name": "Python 3 (ipykernel)",
   "language": "python",
   "name": "python3"
  },
  "language_info": {
   "codemirror_mode": {
    "name": "ipython",
    "version": 3
   },
   "file_extension": ".py",
   "mimetype": "text/x-python",
   "name": "python",
   "nbconvert_exporter": "python",
   "pygments_lexer": "ipython3",
   "version": "3.11.7"
  }
 },
 "nbformat": 4,
 "nbformat_minor": 5
}
