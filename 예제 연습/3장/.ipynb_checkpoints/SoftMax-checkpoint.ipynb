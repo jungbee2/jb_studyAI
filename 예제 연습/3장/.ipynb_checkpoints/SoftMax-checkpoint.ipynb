{
 "cells": [
  {
   "cell_type": "code",
   "execution_count": 1,
   "id": "efa5c1cd-e84c-4a83-a423-6e2f8963a86b",
   "metadata": {},
   "outputs": [],
   "source": [
    "import numpy as np"
   ]
  },
  {
   "cell_type": "code",
   "execution_count": 2,
   "id": "d485f0b2-e31d-4c87-8b52-e8a8f9607d22",
   "metadata": {},
   "outputs": [
    {
     "name": "stderr",
     "output_type": "stream",
     "text": [
      "C:\\Users\\komi1\\AppData\\Local\\Temp\\ipykernel_20388\\294143521.py:2: RuntimeWarning: overflow encountered in exp\n",
      "  np.exp(a) / np.sum(np.exp(a)) # 소프트맥스 함수 계산\n",
      "C:\\Users\\komi1\\AppData\\Local\\Temp\\ipykernel_20388\\294143521.py:2: RuntimeWarning: invalid value encountered in divide\n",
      "  np.exp(a) / np.sum(np.exp(a)) # 소프트맥스 함수 계산\n"
     ]
    },
    {
     "data": {
      "text/plain": [
       "array([nan, nan, nan])"
      ]
     },
     "execution_count": 2,
     "metadata": {},
     "output_type": "execute_result"
    }
   ],
   "source": [
    "a = np.array([1010, 1000, 990])\n",
    "np.exp(a) / np.sum(np.exp(a)) # 소프트맥스 함수 계산"
   ]
  },
  {
   "cell_type": "code",
   "execution_count": null,
   "id": "a090bcdc-7a24-4749-bc89-e14bd3ca0051",
   "metadata": {},
   "outputs": [],
   "source": [
    "c = np.max(a)\n",
    "a-c"
   ]
  }
 ],
 "metadata": {
  "kernelspec": {
   "display_name": "Python 3 (ipykernel)",
   "language": "python",
   "name": "python3"
  },
  "language_info": {
   "codemirror_mode": {
    "name": "ipython",
    "version": 3
   },
   "file_extension": ".py",
   "mimetype": "text/x-python",
   "name": "python",
   "nbconvert_exporter": "python",
   "pygments_lexer": "ipython3",
   "version": "3.11.7"
  }
 },
 "nbformat": 4,
 "nbformat_minor": 5
}
