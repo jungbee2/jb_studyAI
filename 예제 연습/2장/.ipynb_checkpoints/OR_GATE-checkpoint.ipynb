{
 "cells": [
  {
   "cell_type": "code",
   "execution_count": 4,
   "id": "0b08c8d4-99e9-4ea8-9c82-4d862a70465a",
   "metadata": {},
   "outputs": [],
   "source": [
    "import numpy as np"
   ]
  },
  {
   "cell_type": "code",
   "execution_count": 5,
   "id": "066ce0fd-b763-4e3d-b523-621ea0c96b57",
   "metadata": {},
   "outputs": [],
   "source": [
    "def OR(x1,x2):\n",
    "    x= np.array([x1,x2])  # numpy 안에 있는 array 호출\n",
    "    w= np.array([0.5,0.5]) #가중치\n",
    "    b= -0.2 # 편향   0.7이 좌변으로 넘어가서 -0.7ehla\n",
    "    tmp = np.sum(w*x) +b\n",
    "    if tmp <=0:\n",
    "        return 0\n",
    "    else:\n",
    "        return 1"
   ]
  },
  {
   "cell_type": "code",
   "execution_count": 6,
   "id": "6f686c1c-95ff-4627-b915-60af1703cf75",
   "metadata": {},
   "outputs": [
    {
     "name": "stdout",
     "output_type": "stream",
     "text": [
      "(0, 0)->0\n",
      "(0, 1)->1\n",
      "(1, 0)->1\n",
      "(1, 1)->1\n"
     ]
    }
   ],
   "source": [
    "if __name__ == '__main__':\n",
    "    for xs in [(0,0),(0,1),(1,0),(1,1)]:\n",
    "        y=OR(xs[0], xs[1])\n",
    "        print(str(xs) +\"->\"+ str(y))"
   ]
  },
  {
   "cell_type": "code",
   "execution_count": null,
   "id": "b6962d3b-17de-480e-827b-fd4c6c92167c",
   "metadata": {},
   "outputs": [],
   "source": []
  },
  {
   "cell_type": "code",
   "execution_count": null,
   "id": "c8661cc2-a6ee-47ad-ac39-171a09188167",
   "metadata": {},
   "outputs": [],
   "source": []
  }
 ],
 "metadata": {
  "kernelspec": {
   "display_name": "Python 3 (ipykernel)",
   "language": "python",
   "name": "python3"
  },
  "language_info": {
   "codemirror_mode": {
    "name": "ipython",
    "version": 3
   },
   "file_extension": ".py",
   "mimetype": "text/x-python",
   "name": "python",
   "nbconvert_exporter": "python",
   "pygments_lexer": "ipython3",
   "version": "3.11.7"
  }
 },
 "nbformat": 4,
 "nbformat_minor": 5
}
