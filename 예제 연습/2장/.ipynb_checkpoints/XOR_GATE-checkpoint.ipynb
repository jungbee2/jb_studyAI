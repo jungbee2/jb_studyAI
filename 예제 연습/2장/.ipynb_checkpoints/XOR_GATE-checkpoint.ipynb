{
 "cells": [
  {
   "cell_type": "code",
   "execution_count": 17,
   "id": "6c02b429-0a75-4128-8dc7-18c3016687bc",
   "metadata": {},
   "outputs": [],
   "source": [
    "import numpy as np"
   ]
  },
  {
   "cell_type": "code",
   "execution_count": 18,
   "id": "89ba95a1-b948-48b7-b644-6636357c0444",
   "metadata": {},
   "outputs": [],
   "source": [
    "def AND(x1,x2):\n",
    "    x= np.array([x1,x2])  # numpy 안에 있는 array 호출\n",
    "    w= np.array([0.5,0.5]) #가중치\n",
    "    b= -0.7 # 편향  \n",
    "    tmp = np.sum(w*x) +b\n",
    "    if tmp <=0:\n",
    "        return 0\n",
    "    else:\n",
    "        return 1"
   ]
  },
  {
   "cell_type": "code",
   "execution_count": 19,
   "id": "03d56413-cde5-4fb0-b622-707ff648f869",
   "metadata": {},
   "outputs": [],
   "source": [
    "def OR(x1,x2):\n",
    "    x= np.array([x1,x2])  # numpy 안에 있는 array 호출\n",
    "    w= np.array([0.5,0.5]) #가중치\n",
    "    b= -0.2 # 편향  \n",
    "    tmp = np.sum(w*x) +b\n",
    "    if tmp <=0:\n",
    "        return 0\n",
    "    else:\n",
    "        return 1"
   ]
  },
  {
   "cell_type": "code",
   "execution_count": 20,
   "id": "780f8c8e-ffd6-4c74-8b0c-540579ce8e32",
   "metadata": {},
   "outputs": [],
   "source": [
    "def NAND(x1,x2):\n",
    "    x= np.array([x1,x2])  # numpy 안에 있는 array 호출\n",
    "    w= np.array([-0.5,-0.5]) #가중치\n",
    "    b= 0.7 # 편향 \n",
    "    tmp = np.sum(w*x) +b\n",
    "    if tmp <=0:\n",
    "        return 0\n",
    "    else:\n",
    "        return 1"
   ]
  },
  {
   "cell_type": "code",
   "execution_count": 21,
   "id": "bb1c7a1c-bf90-4668-adbb-cdbb926a9836",
   "metadata": {},
   "outputs": [],
   "source": [
    "def XOR(x1,x2):\n",
    "    s1=NAND(x1,x2)\n",
    "    s2=OR(x1,x2)\n",
    "    y=AND(s1,s2)\n",
    "    return y"
   ]
  },
  {
   "cell_type": "code",
   "execution_count": 22,
   "id": "20856cd8-0b18-4e7f-bb4a-b0828aaa7a8e",
   "metadata": {},
   "outputs": [
    {
     "name": "stdout",
     "output_type": "stream",
     "text": [
      "(0, 0)->0\n",
      "(0, 1)->1\n",
      "(1, 0)->1\n",
      "(1, 1)->0\n"
     ]
    }
   ],
   "source": [
    "if __name__ == '__main__':\n",
    "    for xs in [(0,0),(0,1),(1,0),(1,1)]:\n",
    "        y=XOR(xs[0], xs[1])\n",
    "        print(str(xs) +\"->\"+ str(y))"
   ]
  },
  {
   "cell_type": "code",
   "execution_count": null,
   "id": "80002a1c-b2e0-4183-beae-9fea606134a1",
   "metadata": {},
   "outputs": [],
   "source": []
  },
  {
   "cell_type": "code",
   "execution_count": null,
   "id": "7ec37427-5387-4913-be47-bf39dbb21c8c",
   "metadata": {},
   "outputs": [],
   "source": []
  },
  {
   "cell_type": "code",
   "execution_count": null,
   "id": "1df6577c-3234-4125-924d-21641e7ccc50",
   "metadata": {},
   "outputs": [],
   "source": []
  }
 ],
 "metadata": {
  "kernelspec": {
   "display_name": "Python 3 (ipykernel)",
   "language": "python",
   "name": "python3"
  },
  "language_info": {
   "codemirror_mode": {
    "name": "ipython",
    "version": 3
   },
   "file_extension": ".py",
   "mimetype": "text/x-python",
   "name": "python",
   "nbconvert_exporter": "python",
   "pygments_lexer": "ipython3",
   "version": "3.11.7"
  }
 },
 "nbformat": 4,
 "nbformat_minor": 5
}
