{
 "cells": [
  {
   "cell_type": "markdown",
   "id": "bf4dae55-7930-41ea-a88e-91eb72fbd6c8",
   "metadata": {},
   "source": [
    "NumPy는 행렬이나 일반적으로 대규모 다차원 배열을 쉽게 처리할 수 있도록 지원하는 파이썬의 라이브러리이다.\n",
    "NumPy는 데이터 구조 외에도 수치 계산을 위해 효율적으로 구현된 기능을 제공한다. \n",
    "\n",
    "w1x2+w2x2 >= 세타값\n",
    "w1x1+w2x2-세타값 >= 0 \n",
    "세타값 치환하여넘김\n",
    "b = -세타값\n",
    "b를 바이어스라고 부름"
   ]
  },
  {
   "cell_type": "code",
   "execution_count": 7,
   "id": "be486602-83f9-4662-9810-e5db82d5a472",
   "metadata": {},
   "outputs": [],
   "source": [
    "import numpy as np"
   ]
  },
  {
   "cell_type": "code",
   "execution_count": 8,
   "id": "dc0be867-baab-4fa0-a673-a3aa5127e60f",
   "metadata": {},
   "outputs": [],
   "source": [
    "def AND(x1,x2):\n",
    "    x= np.array([x1,x2])  # numpy 안에 있는 array 호출\n",
    "    w= np.array([0.5,0.5]) #가중치\n",
    "    b= -0.7 # 편향   0.7이 좌변으로 넘어가서 -0.7ehla\n",
    "    tmp = np.sum(w*x) +b\n",
    "    if tmp <=0:\n",
    "        return 0\n",
    "    else:\n",
    "        return 1"
   ]
  },
  {
   "cell_type": "code",
   "execution_count": 6,
   "id": "96a93cfe-1ddf-4706-a360-942ce95b484f",
   "metadata": {},
   "outputs": [
    {
     "name": "stdout",
     "output_type": "stream",
     "text": [
      "(0, 0)->0\n",
      "(0, 1)->0\n",
      "(1, 0)->0\n",
      "(1, 1)->1\n"
     ]
    }
   ],
   "source": [
    "if __name__ == '__main__':\n",
    "    for xs in [(0,0),(0,1),(1,0),(1,1)]:\n",
    "        y=AND(xs[0], xs[1])\n",
    "        print(str(xs) +\"->\"+ str(y))"
   ]
  },
  {
   "cell_type": "code",
   "execution_count": null,
   "id": "0d34fe03-bd80-4d15-bd47-dc4b9c42efdc",
   "metadata": {},
   "outputs": [],
   "source": []
  }
 ],
 "metadata": {
  "kernelspec": {
   "display_name": "Python 3 (ipykernel)",
   "language": "python",
   "name": "python3"
  },
  "language_info": {
   "codemirror_mode": {
    "name": "ipython",
    "version": 3
   },
   "file_extension": ".py",
   "mimetype": "text/x-python",
   "name": "python",
   "nbconvert_exporter": "python",
   "pygments_lexer": "ipython3",
   "version": "3.11.7"
  }
 },
 "nbformat": 4,
 "nbformat_minor": 5
}
