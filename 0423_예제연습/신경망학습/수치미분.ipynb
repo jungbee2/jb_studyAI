{
 "cells": [
  {
   "cell_type": "code",
   "execution_count": 4,
   "id": "8cbd0749-efaa-4821-aeae-5152b0a4353c",
   "metadata": {},
   "outputs": [],
   "source": [
    "def numerical_diff(f,x):\n",
    "    h= 1e-4\n",
    "    return (f(x+h) - f(x-h)) / (2*h)\n"
   ]
  },
  {
   "cell_type": "code",
   "execution_count": 5,
   "id": "1d736eda-5be0-4c45-9559-6f02ca02172e",
   "metadata": {},
   "outputs": [],
   "source": [
    "def function_1(x):\n",
    "\treturn 0.01*x**2 + 0.1+x"
   ]
  },
  {
   "cell_type": "code",
   "execution_count": 6,
   "id": "7317b335-5917-4b2f-9f9b-ad1443d0e25d",
   "metadata": {},
   "outputs": [
    {
     "data": {
      "text/plain": [
       "1.0999999999983245"
      ]
     },
     "execution_count": 6,
     "metadata": {},
     "output_type": "execute_result"
    }
   ],
   "source": [
    "numerical_diff(function_1,5)"
   ]
  },
  {
   "cell_type": "code",
   "execution_count": null,
   "id": "28e48ae4-4379-4094-8fa0-99930ed3c675",
   "metadata": {},
   "outputs": [],
   "source": []
  }
 ],
 "metadata": {
  "kernelspec": {
   "display_name": "Python 3 (ipykernel)",
   "language": "python",
   "name": "python3"
  },
  "language_info": {
   "codemirror_mode": {
    "name": "ipython",
    "version": 3
   },
   "file_extension": ".py",
   "mimetype": "text/x-python",
   "name": "python",
   "nbconvert_exporter": "python",
   "pygments_lexer": "ipython3",
   "version": "3.11.7"
  }
 },
 "nbformat": 4,
 "nbformat_minor": 5
}
