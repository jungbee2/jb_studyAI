{
 "cells": [
  {
   "cell_type": "code",
   "execution_count": 13,
   "id": "f27016bb-d0b6-49bd-a0d3-172a22ba14cf",
   "metadata": {},
   "outputs": [],
   "source": [
    "import numpy as np"
   ]
  },
  {
   "cell_type": "code",
   "execution_count": 14,
   "id": "7b186d35-5d87-40d7-8630-5801b1b64cd5",
   "metadata": {},
   "outputs": [],
   "source": [
    "def partial_diff(x):\n",
    "\treturn x[0]**2 +x[1]**2"
   ]
  },
  {
   "cell_type": "code",
   "execution_count": 16,
   "id": "9d871444-7833-4793-a2b7-d4ae7ea799f7",
   "metadata": {},
   "outputs": [
    {
     "ename": "IndentationError",
     "evalue": "unindent does not match any outer indentation level (<tokenize>, line 18)",
     "output_type": "error",
     "traceback": [
      "\u001b[1;36m  File \u001b[1;32m<tokenize>:18\u001b[1;36m\u001b[0m\n\u001b[1;33m    return grad\u001b[0m\n\u001b[1;37m    ^\u001b[0m\n\u001b[1;31mIndentationError\u001b[0m\u001b[1;31m:\u001b[0m unindent does not match any outer indentation level\n"
     ]
    }
   ],
   "source": [
    "def numerical_gradient(f, x):\n",
    "    h = 1e-4 # 0.001\n",
    "    grad = np.zeros_like(x)  # x와 형상이 같은 배열을 생성\n",
    "    \n",
    "    for idx in range(x.size):\n",
    "        tmp_val = x[idx]\n",
    "        \n",
    "        # f(x+h) 계산\n",
    "        x[idx] = float(tmp_val) + h\n",
    "        fxh1 = f(x)\n",
    "        \n",
    "        # f(x-h) 계산\n",
    "        x[idx] = tmp_val - h\n",
    "        fxh2 = f(x)\n",
    "        \n",
    "        grad[idx] = (fxh1 - fxh2) / (2*h)\n",
    "        x[idx] = tmp_val\n",
    "    return grad\n"
   ]
  },
  {
   "cell_type": "code",
   "execution_count": 17,
   "id": "a4e8027e-3d99-4a71-b2cb-89ace5117677",
   "metadata": {},
   "outputs": [],
   "source": [
    "numerical_gradient(partial_diff, np.array([3.0,4.0]))"
   ]
  },
  {
   "cell_type": "code",
   "execution_count": null,
   "id": "e25839fe-6540-49df-bbc9-68bd6ec3a795",
   "metadata": {},
   "outputs": [],
   "source": []
  },
  {
   "cell_type": "code",
   "execution_count": null,
   "id": "0fbc31c6-28f7-4c66-ba8c-1eb390fb9f72",
   "metadata": {},
   "outputs": [],
   "source": []
  },
  {
   "cell_type": "code",
   "execution_count": null,
   "id": "0392a96e-6762-486d-8d43-15c729ee4188",
   "metadata": {},
   "outputs": [],
   "source": []
  },
  {
   "cell_type": "code",
   "execution_count": null,
   "id": "8c11bdeb-e960-4f09-a08b-edc933900b97",
   "metadata": {},
   "outputs": [],
   "source": []
  }
 ],
 "metadata": {
  "kernelspec": {
   "display_name": "Python 3 (ipykernel)",
   "language": "python",
   "name": "python3"
  },
  "language_info": {
   "codemirror_mode": {
    "name": "ipython",
    "version": 3
   },
   "file_extension": ".py",
   "mimetype": "text/x-python",
   "name": "python",
   "nbconvert_exporter": "python",
   "pygments_lexer": "ipython3",
   "version": "3.11.7"
  }
 },
 "nbformat": 4,
 "nbformat_minor": 5
}
