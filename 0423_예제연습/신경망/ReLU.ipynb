{
 "cells": [
  {
   "cell_type": "code",
   "execution_count": null,
   "id": "d0acab52-782b-47a6-b856-c3d550d7649a",
   "metadata": {},
   "outputs": [],
   "source": [
    "import numpy as np\n",
    "import matplotlib.pylab as plt"
   ]
  },
  {
   "cell_type": "code",
   "execution_count": null,
   "id": "a95bb7a4-76a6-43e2-b3ab-0f9bbaaf2195",
   "metadata": {},
   "outputs": [],
   "source": [
    "def relu(x):\n",
    "    return np.maximim(0,x)"
   ]
  },
  {
   "cell_type": "code",
   "execution_count": null,
   "id": "d44fee61-92b4-4d64-9aa7-8ee994ca01ff",
   "metadata": {},
   "outputs": [],
   "source": [
    "X= np.arange(-5.0,5.0,0.1)\n",
    "Y = relu(X)\n",
    "plt.plot(X,Y)\n",
    "plt.ylim(-0.1,1.1)\n",
    "plt.show()"
   ]
  }
 ],
 "metadata": {
  "kernelspec": {
   "display_name": "Python 3 (ipykernel)",
   "language": "python",
   "name": "python3"
  },
  "language_info": {
   "codemirror_mode": {
    "name": "ipython",
    "version": 3
   },
   "file_extension": ".py",
   "mimetype": "text/x-python",
   "name": "python",
   "nbconvert_exporter": "python",
   "pygments_lexer": "ipython3",
   "version": "3.11.7"
  }
 },
 "nbformat": 4,
 "nbformat_minor": 5
}
