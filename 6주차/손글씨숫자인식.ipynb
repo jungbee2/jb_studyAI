{
 "cells": [
  {
   "cell_type": "code",
   "execution_count": 30,
   "id": "b43164e5-c9dc-4c00-a086-fbed95de08e4",
   "metadata": {},
   "outputs": [],
   "source": [
    "import sys, os\n",
    "sys.path.append(os.pardir) #부모 디렉터리의 파일을 가져올 수 있도록 설정\n",
    "import numpy as np\n",
    "from dataset.mnist import load_mnist\n",
    "from PIL import Image"
   ]
  },
  {
   "cell_type": "code",
   "execution_count": 31,
   "id": "1db886cb-1162-4bd4-a634-6fe2b5d56402",
   "metadata": {},
   "outputs": [],
   "source": [
    "def img_show(img):\n",
    "    #이미지를 PIL(python imgae library)로 변환\n",
    "    pil_img = Image.fromarray(np.uint8(img))\n",
    "    # 이미지 보여줌\n",
    "    pil_img.show()\n",
    "    "
   ]
  },
  {
   "cell_type": "code",
   "execution_count": 32,
   "id": "be95a576-314c-49e0-bede-b41c2ff2c94a",
   "metadata": {},
   "outputs": [],
   "source": [
    "#처음 한번은 몇 분 정도 걸립니다.\n",
    "# MNIST 데이터셋을 불러와서 트레이닝 이미지와 테스트 이미지로 나눔\n",
    "# flatten=True: 784개로 이루어진 1차원 배열로 펼침\n",
    "# normalize=False: 0~255 사이의 픽셀값을 사용\n",
    "(x_train, t_train), (x_test, t_test) = \\\n",
    "    load_mnist(flatten=True, normalize=False) "
   ]
  },
  {
   "cell_type": "code",
   "execution_count": 33,
   "id": "4d3375dd-c581-4a73-8b44-db056f7fc2bf",
   "metadata": {},
   "outputs": [
    {
     "name": "stdout",
     "output_type": "stream",
     "text": [
      "5\n"
     ]
    }
   ],
   "source": [
    "# 트레이닝 이미지 중 첫 번째 이미지 선택\n",
    "img = x_train[0]\n",
    "# 해당 이미지의 레이블(정답) 선택\n",
    "label = t_train[0]\n",
    "\n",
    "# 레이블 출력\n",
    "print(label)"
   ]
  },
  {
   "cell_type": "code",
   "execution_count": 34,
   "id": "c7fda8a7-a148-44a2-a10c-49fa74a2db13",
   "metadata": {},
   "outputs": [
    {
     "name": "stdout",
     "output_type": "stream",
     "text": [
      "(784,)\n",
      "(28, 28)\n"
     ]
    }
   ],
   "source": [
    "# 이미지의 형태 출력\n",
    "print(img.shape)\n",
    "\n",
    "# 이미지를 28x28 크기로 재구성\n",
    "img = img.reshape(28,28)\n",
    "# 재구성된 이미지의 형태 출력\n",
    "print(img.shape)\n",
    "\n",
    "# 이미지 출력\n",
    "img_show(img)"
   ]
  },
  {
   "cell_type": "code",
   "execution_count": 35,
   "id": "1a7837b8-806d-4e3a-8247-0df60f162881",
   "metadata": {},
   "outputs": [
    {
     "name": "stdout",
     "output_type": "stream",
     "text": [
      "(60000, 784)\n",
      "(60000,)\n",
      "(10000, 784)\n",
      "(10000,)\n"
     ]
    }
   ],
   "source": [
    "#각 데이터의 형상 출력\n",
    "print(x_train.shape)\n",
    "print(t_train.shape)\n",
    "print(x_test.shape)\n",
    "print(t_test.shape)"
   ]
  },
  {
   "cell_type": "code",
   "execution_count": null,
   "id": "ddd0549e-a1b0-457b-a156-25fc7e0e5356",
   "metadata": {},
   "outputs": [],
   "source": []
  },
  {
   "cell_type": "code",
   "execution_count": null,
   "id": "234e9c46-cd32-43c7-8102-f88ed3597f8d",
   "metadata": {},
   "outputs": [],
   "source": []
  },
  {
   "cell_type": "code",
   "execution_count": null,
   "id": "69a51489-ec9a-45c3-a8d4-41d37c8d4b6e",
   "metadata": {},
   "outputs": [],
   "source": []
  }
 ],
 "metadata": {
  "kernelspec": {
   "display_name": "Python 3 (ipykernel)",
   "language": "python",
   "name": "python3"
  },
  "language_info": {
   "codemirror_mode": {
    "name": "ipython",
    "version": 3
   },
   "file_extension": ".py",
   "mimetype": "text/x-python",
   "name": "python",
   "nbconvert_exporter": "python",
   "pygments_lexer": "ipython3",
   "version": "3.11.7"
  }
 },
 "nbformat": 4,
 "nbformat_minor": 5
}
