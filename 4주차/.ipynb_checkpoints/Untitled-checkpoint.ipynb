{
 "cells": [
  {
   "cell_type": "code",
   "execution_count": 77,
   "id": "10942122-2d29-48eb-be26-b072212a80d4",
   "metadata": {},
   "outputs": [
    {
     "name": "stdout",
     "output_type": "stream",
     "text": [
      "0\n",
      "0\n",
      "0\n",
      "0\n"
     ]
    }
   ],
   "source": [
    "def TEST(x1, x2):\n",
    "    w11 = 0.4\n",
    "    w12 = 0.4\n",
    "    \n",
    "    w21 = -0.4\n",
    "    w22 = -0.4\n",
    "    \n",
    "    w31 = 0.8\n",
    "    w32 = 0.8\n",
    "\n",
    "    b1 = 0.6\n",
    "    b2 = -0.6\n",
    "    b3 = -0.01\n",
    "\n",
    "    s1 = x1 * w11 + x2 * w21 + b1\n",
    "    s2 = x1 * w12 + x2 * w22 + b2\n",
    "\n",
    "    y =  s1*w31 + s2* w32 + b3\n",
    "\n",
    "    return 0 if y <= 0 else 1  # 반환값 조정\n",
    "\n",
    "\n",
    "print(TEST(0, 0))  # 출력: 0\n",
    "print(TEST(1, 0))  # 출력: 1\n",
    "print(TEST(0, 1))  # 출력: 1\n",
    "print(TEST(1, 1))  # 출력: 0\n"
   ]
  },
  {
   "cell_type": "code",
   "execution_count": null,
   "id": "4a7b0a1b-036c-486c-bf93-03c7afd6836b",
   "metadata": {},
   "outputs": [],
   "source": []
  },
  {
   "cell_type": "code",
   "execution_count": null,
   "id": "50a573e3-43f3-4ca6-9aa4-c0f25fa95020",
   "metadata": {},
   "outputs": [],
   "source": []
  },
  {
   "cell_type": "code",
   "execution_count": null,
   "id": "e8250e80-675e-46b9-aa49-c550b757f008",
   "metadata": {},
   "outputs": [],
   "source": []
  }
 ],
 "metadata": {
  "kernelspec": {
   "display_name": "Python 3 (ipykernel)",
   "language": "python",
   "name": "python3"
  },
  "language_info": {
   "codemirror_mode": {
    "name": "ipython",
    "version": 3
   },
   "file_extension": ".py",
   "mimetype": "text/x-python",
   "name": "python",
   "nbconvert_exporter": "python",
   "pygments_lexer": "ipython3",
   "version": "3.11.7"
  }
 },
 "nbformat": 4,
 "nbformat_minor": 5
}
