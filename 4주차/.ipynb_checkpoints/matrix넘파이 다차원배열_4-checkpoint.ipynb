{
 "cells": [
  {
   "cell_type": "code",
   "execution_count": null,
   "id": "c66da199-3c8b-44a2-9c1c-1b56661236f9",
   "metadata": {},
   "outputs": [],
   "source": [
    "import numpy as np\n",
    "\n",
    "X=np.array([1.0, 0.5]) # 2개의 임계값\n",
    "W1 = np.array([[0.1,0.3,0.5],[0.2,0.4,0.6]]) #가중치\n",
    "B1 = np.array([0.1,0.2,0.3])"
   ]
  },
  {
   "cell_type": "code",
   "execution_count": null,
   "id": "67346931-46bc-44b1-addc-327002225830",
   "metadata": {},
   "outputs": [],
   "source": [
    "print(W1.shape)\n",
    "print(X.shape)\n",
    "print(B1.shape)"
   ]
  },
  {
   "cell_type": "code",
   "execution_count": null,
   "id": "86ed38ea-c10b-4c23-9b23-80d205be28c7",
   "metadata": {},
   "outputs": [],
   "source": [
    "A1 = np.dot(X,W1) + B1\n",
    "print(A1)"
   ]
  }
 ],
 "metadata": {
  "kernelspec": {
   "display_name": "Python 3 (ipykernel)",
   "language": "python",
   "name": "python3"
  },
  "language_info": {
   "codemirror_mode": {
    "name": "ipython",
    "version": 3
   },
   "file_extension": ".py",
   "mimetype": "text/x-python",
   "name": "python",
   "nbconvert_exporter": "python",
   "pygments_lexer": "ipython3",
   "version": "3.11.7"
  }
 },
 "nbformat": 4,
 "nbformat_minor": 5
}
