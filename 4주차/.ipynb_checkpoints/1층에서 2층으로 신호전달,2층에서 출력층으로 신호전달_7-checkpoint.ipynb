{
 "cells": [
  {
   "cell_type": "code",
   "execution_count": 26,
   "id": "770ea695-a298-4d43-ac7e-9a6c1bd56c4c",
   "metadata": {},
   "outputs": [],
   "source": [
    "import numpy as np\n",
    "\n",
    "#활성화 함수\n",
    "def sigmoid(x):\n",
    "    return 1 / (1 + np.exp(-x))"
   ]
  },
  {
   "cell_type": "code",
   "execution_count": 27,
   "id": "b9758955-c455-460e-9fa6-bd06b7f9a971",
   "metadata": {},
   "outputs": [],
   "source": [
    "# 1층의 활성화 함수에서의 처리\n",
    "\n",
    "X= np.array([1.0, 0.5])\n",
    "W1= np.array([[0.1, 0.3, 0.5],[0.2, 0.4, 0.6]])\n",
    "B1= np.array([0.1, 0.2, 0.3])"
   ]
  },
  {
   "cell_type": "code",
   "execution_count": 28,
   "id": "05db4f0f-4011-4639-8b35-04109200b821",
   "metadata": {},
   "outputs": [
    {
     "name": "stdout",
     "output_type": "stream",
     "text": [
      "(2, 3)\n",
      "(2,)\n",
      "(3,)\n"
     ]
    }
   ],
   "source": [
    "print(W1.shape)\n",
    "print(X.shape)\n",
    "print(B1.shape)"
   ]
  },
  {
   "cell_type": "code",
   "execution_count": 29,
   "id": "75404983-3515-47c3-a088-9d37c77d2a7a",
   "metadata": {},
   "outputs": [
    {
     "name": "stdout",
     "output_type": "stream",
     "text": [
      "[0.3 0.7 1.1]\n"
     ]
    }
   ],
   "source": [
    "A1 = np.dot(X,W1) + B1\n",
    "print(A1)"
   ]
  },
  {
   "cell_type": "code",
   "execution_count": 30,
   "id": "6283ba3e-91d0-4157-84a9-aa706db5600c",
   "metadata": {},
   "outputs": [
    {
     "name": "stdout",
     "output_type": "stream",
     "text": [
      "[0.3 0.7 1.1]\n",
      "[0.57444252 0.66818777 0.75026011]\n"
     ]
    }
   ],
   "source": [
    "Z1 = sigmoid(A1) #활성화 처리 (sigmoid 값을 거칠수있게)\n",
    "\n",
    "print(A1)\n",
    "print(Z1)"
   ]
  },
  {
   "cell_type": "code",
   "execution_count": 31,
   "id": "330a33cc-8731-4498-944c-46ede061d3d6",
   "metadata": {},
   "outputs": [],
   "source": [
    "# 1층에서 2층으로 신호 전달\n",
    "\n",
    "W2 = np.array([[0.1, 0.4],[0.2,0.5],[0.3,0.6]])\n",
    "B2 = np.array([0.1,0.2])"
   ]
  },
  {
   "cell_type": "code",
   "execution_count": 32,
   "id": "1e92e92e-c2c6-488c-9833-5e66f1fd3fe5",
   "metadata": {},
   "outputs": [
    {
     "name": "stdout",
     "output_type": "stream",
     "text": [
      "(3,)\n",
      "(3, 2)\n",
      "(2,)\n"
     ]
    }
   ],
   "source": [
    "print(Z1.shape)\n",
    "print(W2.shape)\n",
    "print(B2.shape)"
   ]
  },
  {
   "cell_type": "code",
   "execution_count": 33,
   "id": "74387e6b-3974-4108-9150-b8bf4ad50e61",
   "metadata": {},
   "outputs": [],
   "source": [
    "A2 = np.dot(Z1, W2) + B2\n",
    "Z2 =sigmoid(A2)"
   ]
  },
  {
   "cell_type": "code",
   "execution_count": 34,
   "id": "565d2572-5822-4d2e-ab03-f68ac7975c13",
   "metadata": {},
   "outputs": [],
   "source": [
    "#2층에서 출력층으로 신호 전달\n",
    "def identity_function(x):\n",
    "    return x"
   ]
  },
  {
   "cell_type": "code",
   "execution_count": 35,
   "id": "982e7a50-5688-4ded-8cfd-39d22c82a7ad",
   "metadata": {},
   "outputs": [
    {
     "name": "stdout",
     "output_type": "stream",
     "text": [
      "[0.31682708 0.77338016]\n",
      "[0.31682708 0.77338016]\n"
     ]
    }
   ],
   "source": [
    "#3th layer -> output\n",
    "\n",
    "W3 = np.array([[0.1, 0.3],[0.2,0.5]])\n",
    "B3 = np.array([0.1,0.2])\n",
    "\n",
    "A3 = np.dot(Z2, W3) + B3\n",
    "Y = identity_function(A3)\n",
    "\n",
    "print(Y)\n",
    "print(A3)\n",
    "\n",
    "# 항등함수라 Y,A3의 값은 동일하다."
   ]
  },
  {
   "cell_type": "code",
   "execution_count": 36,
   "id": "4d859702-7b3b-4ce6-8ba2-62b3c9e1cff9",
   "metadata": {},
   "outputs": [],
   "source": [
    "##추가\n",
    "\n",
    "def init_network():\n",
    "    network ={}\n",
    "    network['W1'] = np.array([[0.1, 0.3, 0.5],[0.2,0.4,0.6]])\n",
    "    network['b1'] = np.array([0.1, 0.2, 0.3])\n",
    "    network['W2'] = np.array([[0.1, 0.4],[0.2,0.5],[0.3,0.6]])\n",
    "    network['b2'] = np.array([0.1, 0.2])\n",
    "    network['W3'] = np.array([[0.1, 0.3],[0.2,0.4]])\n",
    "    network['b3'] = np.array([0.1, 0.2])\n",
    "\n",
    "    return network"
   ]
  },
  {
   "cell_type": "code",
   "execution_count": 39,
   "id": "72b92cf6-4fcd-4c76-a613-89c24b9cca8e",
   "metadata": {},
   "outputs": [],
   "source": [
    "def forward(network, x):\n",
    "    W1,W2,W3 = network['W1'], network['W2'], network['W3']\n",
    "    b1,b2,b3 = network['b1'], network['b2'], network['b3']\n",
    "\n",
    "    a1= np.dot(x, W1)+b1\n",
    "    z1=sigmoid(a1)\n",
    "    a2= np.dot(z1,W2)+b2\n",
    "    z2=sigmoid(a2)\n",
    "    a3=np.dot(z2,W3)+b3\n",
    "    y=identity_function(a3)\n",
    "\n",
    "    return y #포워드 값"
   ]
  },
  {
   "cell_type": "code",
   "execution_count": 40,
   "id": "635fdb98-539f-467a-b717-910ddbf69838",
   "metadata": {},
   "outputs": [
    {
     "name": "stdout",
     "output_type": "stream",
     "text": [
      "[0.31682708 0.69627909]\n"
     ]
    }
   ],
   "source": [
    "network = init_network()\n",
    "x= np.array([1.0, 0.5])\n",
    "y= forward(network, x)\n",
    "print(y) # [0.31682708 0.69627909]"
   ]
  },
  {
   "cell_type": "code",
   "execution_count": null,
   "id": "cf33de07-ea2d-464a-95e0-ac680e8245a0",
   "metadata": {},
   "outputs": [],
   "source": []
  }
 ],
 "metadata": {
  "kernelspec": {
   "display_name": "Python 3 (ipykernel)",
   "language": "python",
   "name": "python3"
  },
  "language_info": {
   "codemirror_mode": {
    "name": "ipython",
    "version": 3
   },
   "file_extension": ".py",
   "mimetype": "text/x-python",
   "name": "python",
   "nbconvert_exporter": "python",
   "pygments_lexer": "ipython3",
   "version": "3.11.7"
  }
 },
 "nbformat": 4,
 "nbformat_minor": 5
}
