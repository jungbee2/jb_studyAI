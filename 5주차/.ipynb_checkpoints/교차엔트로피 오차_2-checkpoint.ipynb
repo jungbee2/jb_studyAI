{
 "cells": [
  {
   "cell_type": "code",
   "execution_count": 1,
   "id": "181d4972-d9cb-49d8-922e-cf056c37b5ea",
   "metadata": {},
   "outputs": [],
   "source": [
    "import numpy as np\n",
    "# y: 에측값, 추정값 t: 라벨링(정답, 참 값)\n",
    "\n",
    "def cross_entropy_err(y,t):\n",
    "    delta = 1e-7\n",
    "    return -np.sum(t*np.log(y+delta))\n"
   ]
  },
  {
   "cell_type": "code",
   "execution_count": 2,
   "id": "b82805bd-a41a-4007-877d-26ddbb992bbf",
   "metadata": {},
   "outputs": [
    {
     "data": {
      "text/plain": [
       "16.11809565095832"
      ]
     },
     "execution_count": 2,
     "metadata": {},
     "output_type": "execute_result"
    }
   ],
   "source": [
    "#정답은 '2'\n",
    "t=[0, 0, 1, 0, 0, 0, 0, 0, 0, 0]\n",
    "\n",
    "# 예 1 : '2' 일 확률이 가장 높다고 추정함(0.6)\n",
    "# y 값이 합쳐서 1.0이 되어야함 (소프트맥스)\n",
    "y= [0.1, 0.05, 0.6, 0.0, 0.05, 0.1, 0.0, 0.1, 0.0, 0.0]\n",
    "cross_entropy_err(np.array(y), np.array(t))"
   ]
  },
  {
   "cell_type": "code",
   "execution_count": 3,
   "id": "df59cc96-8e9a-4974-80c7-03b9b53d80b2",
   "metadata": {},
   "outputs": [
    {
     "data": {
      "text/plain": [
       "16.11809565095832"
      ]
     },
     "execution_count": 3,
     "metadata": {},
     "output_type": "execute_result"
    }
   ],
   "source": [
    "#예 2 : '7' 일 확률이 가장 높다고 추정함(0.6)\n",
    "y= [0.1, 0.05, 0.1, 0.0, 0.05, 0.1, 0.0, 0.6, 0.0 , 0.0]\n",
    "cross_entropy_err(np.array(y), np.array(t))"
   ]
  },
  {
   "cell_type": "code",
   "execution_count": null,
   "id": "45a3cf04-f189-404a-97a8-e4ab765109a4",
   "metadata": {},
   "outputs": [],
   "source": []
  }
 ],
 "metadata": {
  "kernelspec": {
   "display_name": "Python 3 (ipykernel)",
   "language": "python",
   "name": "python3"
  },
  "language_info": {
   "codemirror_mode": {
    "name": "ipython",
    "version": 3
   },
   "file_extension": ".py",
   "mimetype": "text/x-python",
   "name": "python",
   "nbconvert_exporter": "python",
   "pygments_lexer": "ipython3",
   "version": "3.11.7"
  }
 },
 "nbformat": 4,
 "nbformat_minor": 5
}
