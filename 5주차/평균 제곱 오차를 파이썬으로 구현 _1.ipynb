{
 "cells": [
  {
   "cell_type": "code",
   "execution_count": 1,
   "id": "ac0ea5dc-4e08-417e-8b6b-2026e9dc2dc2",
   "metadata": {},
   "outputs": [],
   "source": [
    "import numpy as np\n",
    "# y: 에측값, 추정값 t: 라벨링(정답, 참 값)\n",
    "def mean_squared_error(y, t):\n",
    "    return 0.5 * np.sum((y-t)**2)\n",
    "    \n",
    "#모델 변경하고, 가중치 값 조절하며 오차값을 줄이며 테스트함"
   ]
  },
  {
   "cell_type": "code",
   "execution_count": 2,
   "id": "99389256-063f-40bc-b18d-83bc760f72c7",
   "metadata": {},
   "outputs": [
    {
     "data": {
      "text/plain": [
       "0.09750000000000003"
      ]
     },
     "execution_count": 2,
     "metadata": {},
     "output_type": "execute_result"
    }
   ],
   "source": [
    "#정답은 '2'\n",
    "t=[0, 0, 1, 0, 0, 0, 0, 0, 0, 0]\n",
    "\n",
    "# 예 1 : '2' 일 확률이 가장 높다고 추정함(0.6)\n",
    "# y 값이 합쳐서 1.0이 되어야함 (소프트맥스)\n",
    "y= [0.1, 0.05, 0.6, 0.0, 0.05, 0.1, 0.0, 0.1, 0.0, 0.0]\n",
    "mean_squared_error(np.array(y), np.array(t))\n",
    "#-> 오차가 더 적어서 정답에 가까움"
   ]
  },
  {
   "cell_type": "code",
   "execution_count": 3,
   "id": "46f04848-b5ec-499c-9968-6b362373977d",
   "metadata": {},
   "outputs": [
    {
     "data": {
      "text/plain": [
       "0.5975"
      ]
     },
     "execution_count": 3,
     "metadata": {},
     "output_type": "execute_result"
    }
   ],
   "source": [
    "#예 2 : '7' 일 확률이 가장 높다고 추정함(0.6)\n",
    "y= [0.1, 0.05, 0.1, 0.0, 0.05, 0.1, 0.0, 0.6, 0.0 , 0.0]\n",
    "mean_squared_error(np.array(y), np.array(t))"
   ]
  },
  {
   "cell_type": "code",
   "execution_count": null,
   "id": "8ebc6721-bfcf-4e1d-8f31-2da1e081e2fe",
   "metadata": {},
   "outputs": [],
   "source": []
  }
 ],
 "metadata": {
  "kernelspec": {
   "display_name": "Python 3 (ipykernel)",
   "language": "python",
   "name": "python3"
  },
  "language_info": {
   "codemirror_mode": {
    "name": "ipython",
    "version": 3
   },
   "file_extension": ".py",
   "mimetype": "text/x-python",
   "name": "python",
   "nbconvert_exporter": "python",
   "pygments_lexer": "ipython3",
   "version": "3.11.7"
  }
 },
 "nbformat": 4,
 "nbformat_minor": 5
}
